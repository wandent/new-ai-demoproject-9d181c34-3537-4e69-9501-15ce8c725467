{
  "cells": [
    {
      "cell_type": "code",
      "source": [
        "#!conda init bash\n",
        "#!conda activate /azureml-envs/azureml_py310_sdkv2\n",
        "!python -m pip install semantic-kernel==0.9.5b1\n",
        "#!conda env list"
      ],
      "outputs": [
        {
          "output_type": "stream",
          "name": "stdout",
          "text": "Collecting semantic-kernel==0.9.5b1\n  Downloading semantic_kernel-0.9.5b1-py3-none-any.whl (272 kB)\n\u001b[2K     \u001b[90m━━━━━━━━━━━━━━━━━━━━━━━━━━━━━━━━━━━━━━━\u001b[0m \u001b[32m272.6/272.6 kB\u001b[0m \u001b[31m8.6 MB/s\u001b[0m eta \u001b[36m0:00:00\u001b[0m\n\u001b[?25hRequirement already satisfied: aiohttp<4.0,>=3.8 in /usr/local/lib/python3.10/site-packages (from semantic-kernel==0.9.5b1) (3.8.6)\nCollecting python-dotenv<2.0.0,>=1.0.1\n  Downloading python_dotenv-1.0.1-py3-none-any.whl (19 kB)\nCollecting scipy>=1.5.0\n  Downloading scipy-1.13.0-cp310-cp310-manylinux_2_17_x86_64.manylinux2014_x86_64.whl (38.6 MB)\n\u001b[2K     \u001b[90m━━━━━━━━━━━━━━━━━━━━━━━━━━━━━━━━━━━━━━━━\u001b[0m \u001b[32m38.6/38.6 MB\u001b[0m \u001b[31m32.8 MB/s\u001b[0m eta \u001b[36m0:00:00\u001b[0m00:01\u001b[0m00:01\u001b[0m\n\u001b[?25hCollecting nest-asyncio<2.0.0,>=1.6.0\n  Downloading nest_asyncio-1.6.0-py3-none-any.whl (5.2 kB)\nRequirement already satisfied: numpy>=1.25 in /usr/local/lib/python3.10/site-packages (from semantic-kernel==0.9.5b1) (1.26.2)\nRequirement already satisfied: motor<4.0.0,>=3.3.2 in /usr/local/lib/python3.10/site-packages (from semantic-kernel==0.9.5b1) (3.3.2)\nRequirement already satisfied: openapi_core<0.20,>=0.18 in /usr/local/lib/python3.10/site-packages (from semantic-kernel==0.9.5b1) (0.18.2)\nRequirement already satisfied: prance<24.0.0.0,>=23.6.21.0 in /usr/local/lib/python3.10/site-packages (from semantic-kernel==0.9.5b1) (23.6.21.0)\nCollecting defusedxml<0.8.0,>=0.7.1\n  Downloading defusedxml-0.7.1-py2.py3-none-any.whl (25 kB)\nCollecting pydantic<3,>=2\n  Downloading pydantic-2.6.4-py3-none-any.whl (394 kB)\n\u001b[2K     \u001b[90m━━━━━━━━━━━━━━━━━━━━━━━━━━━━━━━━━━━━━━\u001b[0m \u001b[32m394.9/394.9 kB\u001b[0m \u001b[31m26.1 MB/s\u001b[0m eta \u001b[36m0:00:00\u001b[0m\n\u001b[?25hRequirement already satisfied: regex<2024.0.0,>=2023.6.3 in /usr/local/lib/python3.10/site-packages (from semantic-kernel==0.9.5b1) (2023.10.3)\nCollecting openai>=1.0\n  Downloading openai-1.16.1-py3-none-any.whl (266 kB)\n\u001b[2K     \u001b[90m━━━━━━━━━━━━━━━━━━━━━━━━━━━━━━━━━━━━━━\u001b[0m \u001b[32m266.9/266.9 kB\u001b[0m \u001b[31m27.6 MB/s\u001b[0m eta \u001b[36m0:00:00\u001b[0m\n\u001b[?25hCollecting grpcio>=1.50.0\n  Downloading grpcio-1.62.1-cp310-cp310-manylinux_2_17_x86_64.manylinux2014_x86_64.whl (5.5 MB)\n\u001b[2K     \u001b[90m━━━━━━━━━━━━━━━━━━━━━━━━━━━━━━━━━━━━━━━━\u001b[0m \u001b[32m5.5/5.5 MB\u001b[0m \u001b[31m98.2 MB/s\u001b[0m eta \u001b[36m0:00:00\u001b[0m:00:01\u001b[0m\n\u001b[?25hCollecting pybars4<0.10.0,>=0.9.13\n  Downloading pybars4-0.9.13.tar.gz (29 kB)\n  Preparing metadata (setup.py) ... \u001b[?25ldone\n\u001b[?25hCollecting jinja2<4.0.0,>=3.1.3\n  Downloading Jinja2-3.1.3-py3-none-any.whl (133 kB)\n\u001b[2K     \u001b[90m━━━━━━━━━━━━━━━━━━━━━━━━━━━━━━━━━━━━━━\u001b[0m \u001b[32m133.2/133.2 kB\u001b[0m \u001b[31m13.8 MB/s\u001b[0m eta \u001b[36m0:00:00\u001b[0m\n\u001b[?25hRequirement already satisfied: attrs>=17.3.0 in /usr/local/lib/python3.10/site-packages (from aiohttp<4.0,>=3.8->semantic-kernel==0.9.5b1) (23.1.0)\nRequirement already satisfied: multidict<7.0,>=4.5 in /usr/local/lib/python3.10/site-packages (from aiohttp<4.0,>=3.8->semantic-kernel==0.9.5b1) (6.0.4)\nRequirement already satisfied: aiosignal>=1.1.2 in /usr/local/lib/python3.10/site-packages (from aiohttp<4.0,>=3.8->semantic-kernel==0.9.5b1) (1.3.1)\nRequirement already satisfied: yarl<2.0,>=1.0 in /usr/local/lib/python3.10/site-packages (from aiohttp<4.0,>=3.8->semantic-kernel==0.9.5b1) (1.9.2)\nRequirement already satisfied: frozenlist>=1.1.1 in /usr/local/lib/python3.10/site-packages (from aiohttp<4.0,>=3.8->semantic-kernel==0.9.5b1) (1.4.0)\nRequirement already satisfied: charset-normalizer<4.0,>=2.0 in /usr/local/lib/python3.10/site-packages (from aiohttp<4.0,>=3.8->semantic-kernel==0.9.5b1) (3.3.2)\nRequirement already satisfied: async-timeout<5.0,>=4.0.0a3 in /usr/local/lib/python3.10/site-packages (from aiohttp<4.0,>=3.8->semantic-kernel==0.9.5b1) (4.0.3)\nRequirement already satisfied: MarkupSafe>=2.0 in /usr/local/lib/python3.10/site-packages (from jinja2<4.0.0,>=3.1.3->semantic-kernel==0.9.5b1) (2.1.3)\nRequirement already satisfied: pymongo<5,>=4.5 in /usr/local/lib/python3.10/site-packages (from motor<4.0.0,>=3.3.2->semantic-kernel==0.9.5b1) (4.6.0)\nRequirement already satisfied: typing-extensions<5,>=4.7 in /usr/local/lib/python3.10/site-packages (from openai>=1.0->semantic-kernel==0.9.5b1) (4.8.0)\nRequirement already satisfied: distro<2,>=1.7.0 in /usr/local/lib/python3.10/site-packages (from openai>=1.0->semantic-kernel==0.9.5b1) (1.8.0)\nRequirement already satisfied: sniffio in /usr/local/lib/python3.10/site-packages (from openai>=1.0->semantic-kernel==0.9.5b1) (1.3.0)\nRequirement already satisfied: anyio<5,>=3.5.0 in /usr/local/lib/python3.10/site-packages (from openai>=1.0->semantic-kernel==0.9.5b1) (3.7.1)\nCollecting httpx<1,>=0.23.0\n  Downloading httpx-0.27.0-py3-none-any.whl (75 kB)\n\u001b[2K     \u001b[90m━━━━━━━━━━━━━━━━━━━━━━━━━━━━━━━━━━━━━━━━\u001b[0m \u001b[32m75.6/75.6 kB\u001b[0m \u001b[31m9.7 MB/s\u001b[0m eta \u001b[36m0:00:00\u001b[0m\n\u001b[?25hRequirement already satisfied: tqdm>4 in /usr/local/lib/python3.10/site-packages (from openai>=1.0->semantic-kernel==0.9.5b1) (4.66.1)\nRequirement already satisfied: more-itertools in /usr/local/lib/python3.10/site-packages (from openapi_core<0.20,>=0.18->semantic-kernel==0.9.5b1) (10.1.0)\nRequirement already satisfied: openapi-spec-validator<0.8.0,>=0.7.1 in /usr/local/lib/python3.10/site-packages (from openapi_core<0.20,>=0.18->semantic-kernel==0.9.5b1) (0.7.1)\nRequirement already satisfied: parse in /usr/local/lib/python3.10/site-packages (from openapi_core<0.20,>=0.18->semantic-kernel==0.9.5b1) (1.19.1)\nRequirement already satisfied: isodate in /usr/local/lib/python3.10/site-packages (from openapi_core<0.20,>=0.18->semantic-kernel==0.9.5b1) (0.6.1)\nRequirement already satisfied: openapi-schema-validator<0.7.0,>=0.6.0 in /usr/local/lib/python3.10/site-packages (from openapi_core<0.20,>=0.18->semantic-kernel==0.9.5b1) (0.6.2)\nRequirement already satisfied: jsonschema<5.0.0,>=4.18.0 in /usr/local/lib/python3.10/site-packages (from openapi_core<0.20,>=0.18->semantic-kernel==0.9.5b1) (4.20.0)\nRequirement already satisfied: werkzeug in /usr/local/lib/python3.10/site-packages (from openapi_core<0.20,>=0.18->semantic-kernel==0.9.5b1) (3.0.1)\nRequirement already satisfied: jsonschema-spec<0.3.0,>=0.2.3 in /usr/local/lib/python3.10/site-packages (from openapi_core<0.20,>=0.18->semantic-kernel==0.9.5b1) (0.2.4)\nRequirement already satisfied: asgiref<4.0.0,>=3.6.0 in /usr/local/lib/python3.10/site-packages (from openapi_core<0.20,>=0.18->semantic-kernel==0.9.5b1) (3.7.2)\nRequirement already satisfied: packaging>=21.3 in /usr/local/lib/python3.10/site-packages (from prance<24.0.0.0,>=23.6.21.0->semantic-kernel==0.9.5b1) (23.2)\nRequirement already satisfied: ruamel.yaml>=0.17.10 in /usr/local/lib/python3.10/site-packages (from prance<24.0.0.0,>=23.6.21.0->semantic-kernel==0.9.5b1) (0.17.40)\nRequirement already satisfied: six~=1.15 in /usr/local/lib/python3.10/site-packages (from prance<24.0.0.0,>=23.6.21.0->semantic-kernel==0.9.5b1) (1.16.0)\nRequirement already satisfied: requests>=2.25 in /usr/local/lib/python3.10/site-packages (from prance<24.0.0.0,>=23.6.21.0->semantic-kernel==0.9.5b1) (2.31.0)\nRequirement already satisfied: chardet>=3.0 in /usr/local/lib/python3.10/site-packages (from prance<24.0.0.0,>=23.6.21.0->semantic-kernel==0.9.5b1) (5.2.0)\nCollecting PyMeta3>=0.5.1\n  Downloading PyMeta3-0.5.1.tar.gz (29 kB)\n  Preparing metadata (setup.py) ... \u001b[?25ldone\n\u001b[?25hCollecting pydantic-core==2.16.3\n  Downloading pydantic_core-2.16.3-cp310-cp310-manylinux_2_17_x86_64.manylinux2014_x86_64.whl (2.2 MB)\n\u001b[2K     \u001b[90m━━━━━━━━━━━━━━━━━━━━━━━━━━━━━━━━━━━━━━━━\u001b[0m \u001b[32m2.2/2.2 MB\u001b[0m \u001b[31m72.7 MB/s\u001b[0m eta \u001b[36m0:00:00\u001b[0m\n\u001b[?25hCollecting annotated-types>=0.4.0\n  Downloading annotated_types-0.6.0-py3-none-any.whl (12 kB)\nRequirement already satisfied: exceptiongroup in /usr/local/lib/python3.10/site-packages (from anyio<5,>=3.5.0->openai>=1.0->semantic-kernel==0.9.5b1) (1.1.3)\nRequirement already satisfied: idna>=2.8 in /usr/local/lib/python3.10/site-packages (from anyio<5,>=3.5.0->openai>=1.0->semantic-kernel==0.9.5b1) (3.4)\nRequirement already satisfied: certifi in /usr/local/lib/python3.10/site-packages (from httpx<1,>=0.23.0->openai>=1.0->semantic-kernel==0.9.5b1) (2023.7.22)\nCollecting httpcore==1.*\n  Downloading httpcore-1.0.5-py3-none-any.whl (77 kB)\n\u001b[2K     \u001b[90m━━━━━━━━━━━━━━━━━━━━━━━━━━━━━━━━━━━━━━━━\u001b[0m \u001b[32m77.9/77.9 kB\u001b[0m \u001b[31m8.0 MB/s\u001b[0m eta \u001b[36m0:00:00\u001b[0m\n\u001b[?25hCollecting h11<0.15,>=0.13\n  Downloading h11-0.14.0-py3-none-any.whl (58 kB)\n\u001b[2K     \u001b[90m━━━━━━━━━━━━━━━━━━━━━━━━━━━━━━━━━━━━━━━━\u001b[0m \u001b[32m58.3/58.3 kB\u001b[0m \u001b[31m6.3 MB/s\u001b[0m eta \u001b[36m0:00:00\u001b[0m\n\u001b[?25hRequirement already satisfied: jsonschema-specifications>=2023.03.6 in /usr/local/lib/python3.10/site-packages (from jsonschema<5.0.0,>=4.18.0->openapi_core<0.20,>=0.18->semantic-kernel==0.9.5b1) (2023.7.1)\nRequirement already satisfied: rpds-py>=0.7.1 in /usr/local/lib/python3.10/site-packages (from jsonschema<5.0.0,>=4.18.0->openapi_core<0.20,>=0.18->semantic-kernel==0.9.5b1) (0.13.0)\nRequirement already satisfied: referencing>=0.28.4 in /usr/local/lib/python3.10/site-packages (from jsonschema<5.0.0,>=4.18.0->openapi_core<0.20,>=0.18->semantic-kernel==0.9.5b1) (0.30.2)\nRequirement already satisfied: PyYAML>=5.1 in /usr/local/lib/python3.10/site-packages (from jsonschema-spec<0.3.0,>=0.2.3->openapi_core<0.20,>=0.18->semantic-kernel==0.9.5b1) (6.0.1)\nRequirement already satisfied: pathable<0.5.0,>=0.4.1 in /usr/local/lib/python3.10/site-packages (from jsonschema-spec<0.3.0,>=0.2.3->openapi_core<0.20,>=0.18->semantic-kernel==0.9.5b1) (0.4.3)\nRequirement already satisfied: rfc3339-validator in /usr/local/lib/python3.10/site-packages (from openapi-schema-validator<0.7.0,>=0.6.0->openapi_core<0.20,>=0.18->semantic-kernel==0.9.5b1) (0.1.4)\nRequirement already satisfied: jsonschema-path<0.4.0,>=0.3.1 in /usr/local/lib/python3.10/site-packages (from openapi-spec-validator<0.8.0,>=0.7.1->openapi_core<0.20,>=0.18->semantic-kernel==0.9.5b1) (0.3.2)\nRequirement already satisfied: lazy-object-proxy<2.0.0,>=1.7.1 in /usr/local/lib/python3.10/site-packages (from openapi-spec-validator<0.8.0,>=0.7.1->openapi_core<0.20,>=0.18->semantic-kernel==0.9.5b1) (1.9.0)\nRequirement already satisfied: dnspython<3.0.0,>=1.16.0 in /usr/local/lib/python3.10/site-packages (from pymongo<5,>=4.5->motor<4.0.0,>=3.3.2->semantic-kernel==0.9.5b1) (2.4.2)\nRequirement already satisfied: urllib3<3,>=1.21.1 in /usr/local/lib/python3.10/site-packages (from requests>=2.25->prance<24.0.0.0,>=23.6.21.0->semantic-kernel==0.9.5b1) (2.1.0)\nRequirement already satisfied: ruamel.yaml.clib>=0.2.7 in /usr/local/lib/python3.10/site-packages (from ruamel.yaml>=0.17.10->prance<24.0.0.0,>=23.6.21.0->semantic-kernel==0.9.5b1) (0.2.8)\nBuilding wheels for collected packages: pybars4, PyMeta3\n  Building wheel for pybars4 (setup.py) ... \u001b[?25l-\b \bdone\n\u001b[?25h  Created wheel for pybars4: filename=pybars4-0.9.13-py3-none-any.whl size=14340 sha256=0c88b5a711841413ed47c3e5eda25793e2ce62d977fbb0fbcc564bec9d845d5e\n  Stored in directory: /root/.cache/pip/wheels/6e/aa/f7/0fca6ca6dabcd593ef782462477b2b5b891f477c407072e30a\n  Building wheel for PyMeta3 (setup.py) ... \u001b[?25l-\b \bdone\n\u001b[?25h  Created wheel for PyMeta3: filename=PyMeta3-0.5.1-py3-none-any.whl size=16449 sha256=c857dc5157730500393fd100cc0f4a886087ab7241a3e115cc256a2a591a388e\n  Stored in directory: /root/.cache/pip/wheels/f4/ef/62/1d388a1576d871760164a1388632b29645c3f907cd009d6cb1\nSuccessfully built pybars4 PyMeta3\nInstalling collected packages: PyMeta3, scipy, python-dotenv, pydantic-core, pybars4, nest-asyncio, jinja2, h11, grpcio, defusedxml, annotated-types, pydantic, httpcore, httpx, openai, semantic-kernel\n  Attempting uninstall: python-dotenv\n    Found existing installation: python-dotenv 1.0.0\n    Uninstalling python-dotenv-1.0.0:\n      Successfully uninstalled python-dotenv-1.0.0\n  Attempting uninstall: nest-asyncio\n    Found existing installation: nest-asyncio 1.5.8\n    Uninstalling nest-asyncio-1.5.8:\n      Successfully uninstalled nest-asyncio-1.5.8\n  Attempting uninstall: jinja2\n    Found existing installation: Jinja2 3.1.2\n    Uninstalling Jinja2-3.1.2:\n      Successfully uninstalled Jinja2-3.1.2\n  Attempting uninstall: pydantic\n    Found existing installation: pydantic 1.10.13\n    Uninstalling pydantic-1.10.13:\n      Successfully uninstalled pydantic-1.10.13\n  Attempting uninstall: openai\n    Found existing installation: openai 0.27.10\n    Uninstalling openai-0.27.10:\n      Successfully uninstalled openai-0.27.10\n  Attempting uninstall: semantic-kernel\n    Found existing installation: semantic-kernel 0.3.14.dev0\n    Uninstalling semantic-kernel-0.3.14.dev0:\n      Successfully uninstalled semantic-kernel-0.3.14.dev0\n\u001b[31mERROR: pip's dependency resolver does not currently take into account all the packages that are installed. This behaviour is the source of the following dependency conflicts.\npromptflow 1.0.0 requires openai<0.28.0,>=0.27.8, but you have openai 1.16.1 which is incompatible.\nazureml-inference-server-http 1.0.0 requires pydantic<1.11,>=1.9, but you have pydantic 2.6.4 which is incompatible.\u001b[0m\u001b[31m\n\u001b[0mSuccessfully installed PyMeta3-0.5.1 annotated-types-0.6.0 defusedxml-0.7.1 grpcio-1.62.1 h11-0.14.0 httpcore-1.0.5 httpx-0.27.0 jinja2-3.1.3 nest-asyncio-1.6.0 openai-1.16.1 pybars4-0.9.13 pydantic-2.6.4 pydantic-core-2.16.3 python-dotenv-1.0.1 scipy-1.13.0 semantic-kernel-0.9.5b1\n\u001b[33mWARNING: Running pip as the 'root' user can result in broken permissions and conflicting behaviour with the system package manager. It is recommended to use a virtual environment instead: https://pip.pypa.io/warnings/venv\u001b[0m\u001b[33m\n\u001b[0m\n\u001b[1m[\u001b[0m\u001b[34;49mnotice\u001b[0m\u001b[1;39;49m]\u001b[0m\u001b[39;49m A new release of pip is available: \u001b[0m\u001b[31;49m23.0.1\u001b[0m\u001b[39;49m -> \u001b[0m\u001b[32;49m24.0\u001b[0m\n\u001b[1m[\u001b[0m\u001b[34;49mnotice\u001b[0m\u001b[1;39;49m]\u001b[0m\u001b[39;49m To update, run: \u001b[0m\u001b[32;49mpip install --upgrade pip\u001b[0m\n"
        }
      ],
      "execution_count": 13,
      "metadata": {
        "jupyter": {
          "source_hidden": false,
          "outputs_hidden": false
        },
        "nteract": {
          "transient": {
            "deleting": false
          }
        },
        "gather": {
          "logged": 1712161218583
        }
      }
    },
    {
      "cell_type": "code",
      "source": [
        "\n",
        "\n",
        "#deployment = \"gpt-35-turbo-16k-120k-tokens-default\"\n",
        "#endpoint = \"https://aoaitest001.openai.azure.com/\"\n",
        "#api_key = \"ebc961cc14a1451eb2a902b878cc7ff6\"\n",
        "\n"
      ],
      "outputs": [
        {
          "output_type": "error",
          "ename": "TypeError",
          "evalue": "Kernel.set_default_chat_service() got an unexpected keyword argument 'kernel'",
          "traceback": [
            "\u001b[0;31m---------------------------------------------------------------------------\u001b[0m",
            "\u001b[0;31mTypeError\u001b[0m                                 Traceback (most recent call last)",
            "Cell \u001b[0;32mIn[11], line 21\u001b[0m\n\u001b[1;32m     16\u001b[0m kernel\u001b[38;5;241m.\u001b[39madd_text_completion_service(\n\u001b[1;32m     17\u001b[0m     \u001b[38;5;124m\"\u001b[39m\u001b[38;5;124mdv\u001b[39m\u001b[38;5;124m\"\u001b[39m, AzureTextCompletion( deployment_name\u001b[38;5;241m=\u001b[39m deployment, endpoint\u001b[38;5;241m=\u001b[39m endpoint, api_key\u001b[38;5;241m=\u001b[39m api_key)\n\u001b[1;32m     18\u001b[0m )\n\u001b[1;32m     20\u001b[0m \u001b[38;5;66;03m#result = await kernel.run_async(kernel=\"dv\",input_str= prompt)\u001b[39;00m\n\u001b[0;32m---> 21\u001b[0m \u001b[43mkernel\u001b[49m\u001b[38;5;241;43m.\u001b[39;49m\u001b[43mset_default_chat_service\u001b[49m\u001b[43m(\u001b[49m\u001b[43mkernel\u001b[49m\u001b[38;5;241;43m=\u001b[39;49m\u001b[38;5;124;43m\"\u001b[39;49m\u001b[38;5;124;43mdv\u001b[39;49m\u001b[38;5;124;43m\"\u001b[39;49m\u001b[43m)\u001b[49m\n\u001b[1;32m     22\u001b[0m \u001b[38;5;66;03m#kernel[\"dv\"] = (\"Hello, i'd like you to explain the following topic: \" + prompt )\u001b[39;00m\n\u001b[1;32m     23\u001b[0m \u001b[38;5;66;03m#result =\"\"\u001b[39;00m\n\u001b[1;32m     24\u001b[0m \n\u001b[1;32m     25\u001b[0m \u001b[38;5;66;03m#result = kernel[\"dv\"]\u001b[39;00m\n\u001b[1;32m     26\u001b[0m \u001b[38;5;66;03m#result = kernel.Invoke(\"Hello, i'd like you to explain the following topic: \" + prompt )\u001b[39;00m\n\u001b[1;32m     27\u001b[0m \u001b[38;5;28mprint\u001b[39m(result)\n",
            "\u001b[0;31mTypeError\u001b[0m: Kernel.set_default_chat_service() got an unexpected keyword argument 'kernel'"
          ]
        }
      ],
      "execution_count": 11,
      "metadata": {
        "gather": {
          "logged": 1712160357610
        }
      }
    },
    {
      "cell_type": "code",
      "source": [
        "from semantic_kernel.services import Service\n",
        "#from services import Service\n",
        "\n",
        "# Select a service to use for this notebook (available services: OpenAI, AzureOpenAI, HuggingFace)\n",
        "selectedService = Service.AzureOpenAI"
      ],
      "outputs": [
        {
          "output_type": "error",
          "ename": "ImportError",
          "evalue": "cannot import name 'Service' from 'semantic_kernel.services' (/usr/local/lib/python3.10/site-packages/semantic_kernel/services/__init__.py)",
          "traceback": [
            "\u001b[0;31m---------------------------------------------------------------------------\u001b[0m",
            "\u001b[0;31mImportError\u001b[0m                               Traceback (most recent call last)",
            "Cell \u001b[0;32mIn[15], line 1\u001b[0m\n\u001b[0;32m----> 1\u001b[0m \u001b[38;5;28;01mfrom\u001b[39;00m \u001b[38;5;21;01msemantic_kernel\u001b[39;00m\u001b[38;5;21;01m.\u001b[39;00m\u001b[38;5;21;01mservices\u001b[39;00m \u001b[38;5;28;01mimport\u001b[39;00m Service\n\u001b[1;32m      2\u001b[0m \u001b[38;5;66;03m#from services import Service\u001b[39;00m\n\u001b[1;32m      3\u001b[0m \n\u001b[1;32m      4\u001b[0m \u001b[38;5;66;03m# Select a service to use for this notebook (available services: OpenAI, AzureOpenAI, HuggingFace)\u001b[39;00m\n\u001b[1;32m      5\u001b[0m selectedService \u001b[38;5;241m=\u001b[39m Service\u001b[38;5;241m.\u001b[39mAzureOpenAI\n",
            "\u001b[0;31mImportError\u001b[0m: cannot import name 'Service' from 'semantic_kernel.services' (/usr/local/lib/python3.10/site-packages/semantic_kernel/services/__init__.py)"
          ]
        }
      ],
      "execution_count": 15,
      "metadata": {
        "jupyter": {
          "source_hidden": false,
          "outputs_hidden": false
        },
        "nteract": {
          "transient": {
            "deleting": false
          }
        },
        "gather": {
          "logged": 1712161855591
        }
      }
    },
    {
      "cell_type": "code",
      "source": [
        "import semantic_kernel as sk\n",
        "import semantic_kernel.connectors.ai.open_ai as sk_oai\n",
        "from semantic_kernel.prompt_template.input_variable import InputVariable\n",
        "from semantic_kernel.contents.chat_history import ChatHistory\n",
        "from semantic_kernel.functions.kernel_arguments import KernelArguments\n",
        "\n",
        "kernel = sk.Kernel()\n",
        "\n",
        "service_id = None\n",
        "if selectedService == Service.OpenAI:\n",
        "    from semantic_kernel.connectors.ai.open_ai import OpenAIChatCompletion\n",
        "\n",
        "    api_key, org_id = sk.openai_settings_from_dot_env()\n",
        "    service_id = \"oai_chat_gpt\"\n",
        "    kernel.add_service(\n",
        "        OpenAIChatCompletion(service_id=service_id, ai_model_id=\"gpt-3.5-turbo-1106\", api_key=api_key, org_id=org_id),\n",
        "    )\n",
        "elif selectedService == Service.AzureOpenAI:\n",
        "    from semantic_kernel.connectors.ai.open_ai import AzureChatCompletion\n",
        "\n",
        "    deployment, api_key, endpoint = sk.azure_openai_settings_from_dot_env()\n",
        "    service_id = \"aoai_chat_completion\"\n",
        "    kernel.add_service(\n",
        "        AzureChatCompletion(service_id=service_id, deployment_name=deployment, endpoint=endpoint, api_key=api_key),\n",
        "    )"
      ],
      "outputs": [],
      "execution_count": null,
      "metadata": {
        "jupyter": {
          "source_hidden": false,
          "outputs_hidden": false
        },
        "nteract": {
          "transient": {
            "deleting": false
          }
        }
      }
    },
    {
      "cell_type": "code",
      "source": [
        "prompt = \"\"\"\n",
        "ChatBot can have a conversation with you about any topic.\n",
        "It can give explicit instructions or say 'I don't know' if it does not have an answer.\n",
        "\n",
        "{{$history}}\n",
        "User: {{$user_input}}\n",
        "ChatBot: \"\"\""
      ],
      "outputs": [],
      "execution_count": null,
      "metadata": {
        "jupyter": {
          "source_hidden": false,
          "outputs_hidden": false
        },
        "nteract": {
          "transient": {
            "deleting": false
          }
        }
      }
    },
    {
      "cell_type": "code",
      "source": [
        "if selectedService == Service.OpenAI:\n",
        "    execution_settings = sk_oai.OpenAIChatPromptExecutionSettings(\n",
        "        service_id=service_id,\n",
        "        ai_model_id=\"gpt-3.5-turbo-1106\",\n",
        "        max_tokens=2000,\n",
        "        temperature=0.7,\n",
        "    )\n",
        "elif selectedService == Service.AzureOpenAI:\n",
        "    execution_settings = sk_oai.OpenAIChatPromptExecutionSettings(\n",
        "        service_id=service_id,\n",
        "        ai_model_id=deployment,\n",
        "        max_tokens=2000,\n",
        "        temperature=0.7,\n",
        "    )\n",
        "\n",
        "prompt_template_config = sk.PromptTemplateConfig(\n",
        "    template=prompt,\n",
        "    name=\"chat\",\n",
        "    template_format=\"semantic-kernel\",\n",
        "    input_variables=[\n",
        "        InputVariable(name=\"input\", description=\"The user input\", is_required=True),\n",
        "        InputVariable(name=\"history\", description=\"The conversation history\", is_required=True),\n",
        "    ],\n",
        "    execution_settings=execution_settings,\n",
        ")\n",
        "\n",
        "chat_function = kernel.create_function_from_prompt(\n",
        "    function_name=\"chat\",\n",
        "    plugin_name=\"chatPlugin\",\n",
        "    prompt_template_config=prompt_template_config,\n",
        ")"
      ],
      "outputs": [],
      "execution_count": null,
      "metadata": {
        "jupyter": {
          "source_hidden": false,
          "outputs_hidden": false
        },
        "nteract": {
          "transient": {
            "deleting": false
          }
        }
      }
    },
    {
      "cell_type": "code",
      "source": [
        "chat_history = ChatHistory()\n",
        "chat_history.add_system_message(\"You are a helpful chatbot who is good about giving book recommendations.\")\n"
      ],
      "outputs": [],
      "execution_count": null,
      "metadata": {
        "jupyter": {
          "source_hidden": false,
          "outputs_hidden": false
        },
        "nteract": {
          "transient": {
            "deleting": false
          }
        }
      }
    },
    {
      "cell_type": "code",
      "source": [
        "arguments = KernelArguments(user_input=\"Hi, I'm looking for book suggestions\", history=chat_history)"
      ],
      "outputs": [],
      "execution_count": null,
      "metadata": {
        "jupyter": {
          "source_hidden": false,
          "outputs_hidden": false
        },
        "nteract": {
          "transient": {
            "deleting": false
          }
        }
      }
    },
    {
      "cell_type": "code",
      "source": [
        "response = await kernel.invoke(chat_function, arguments)\n",
        "print(response)"
      ],
      "outputs": [],
      "execution_count": null,
      "metadata": {
        "jupyter": {
          "source_hidden": false,
          "outputs_hidden": false
        },
        "nteract": {
          "transient": {
            "deleting": false
          }
        }
      }
    },
    {
      "cell_type": "code",
      "source": [
        "chat_history.add_assistant_message(str(response))\n"
      ],
      "outputs": [],
      "execution_count": null,
      "metadata": {
        "jupyter": {
          "source_hidden": false,
          "outputs_hidden": false
        },
        "nteract": {
          "transient": {
            "deleting": false
          }
        }
      }
    }
  ],
  "metadata": {
    "kernelspec": {
      "name": "generative-ai-app-9d181c34-3537-4e69-9501-15ce8c725467",
      "language": "python",
      "display_name": "generative-ai-app-9d181c34-3537-4e69-9501-15ce8c725467"
    },
    "language_info": {
      "name": "python",
      "version": "3.10.13",
      "mimetype": "text/x-python",
      "codemirror_mode": {
        "name": "ipython",
        "version": 3
      },
      "pygments_lexer": "ipython3",
      "nbconvert_exporter": "python",
      "file_extension": ".py"
    },
    "microsoft": {
      "ms_spell_check": {
        "ms_spell_check_language": "en"
      }
    },
    "kernel_info": {
      "name": "generative-ai-app-9d181c34-3537-4e69-9501-15ce8c725467"
    },
    "nteract": {
      "version": "nteract-front-end@1.0.0"
    }
  },
  "nbformat": 4,
  "nbformat_minor": 2
}